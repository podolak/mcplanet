{
 "cells": [
  {
   "cell_type": "code",
   "execution_count": 1,
   "metadata": {
    "execution": {
     "iopub.execute_input": "2021-08-30T14:19:02.183106Z",
     "iopub.status.busy": "2021-08-30T14:19:02.182898Z",
     "iopub.status.idle": "2021-08-30T14:19:02.244266Z",
     "shell.execute_reply": "2021-08-30T14:19:02.243848Z",
     "shell.execute_reply.started": "2021-08-30T14:19:02.183058Z"
    },
    "tags": [
     "pyflyby-cell"
    ]
   },
   "outputs": [],
   "source": [
    "# This notebook is for playing with fixed density/pressure/temperature models."
   ]
  },
  {
   "cell_type": "code",
   "execution_count": 2,
   "metadata": {
    "execution": {
     "iopub.execute_input": "2021-08-30T14:19:02.245678Z",
     "iopub.status.busy": "2021-08-30T14:19:02.245421Z",
     "iopub.status.idle": "2021-08-30T14:19:02.297378Z",
     "shell.execute_reply": "2021-08-30T14:19:02.296972Z",
     "shell.execute_reply.started": "2021-08-30T14:19:02.245659Z"
    }
   },
   "outputs": [],
   "source": [
    "# This cell sets the working directory so that the code will work on the cloud as well.\n",
    "\n",
    "import os\n",
    "cur_dir = os.getcwd()\n",
    "if cur_dir.split('/')[-1] == \"test\":\n",
    "    os.chdir('./..')"
   ]
  },
  {
   "cell_type": "code",
   "execution_count": 3,
   "metadata": {
    "execution": {
     "iopub.execute_input": "2021-08-30T14:19:02.298230Z",
     "iopub.status.busy": "2021-08-30T14:19:02.297984Z",
     "iopub.status.idle": "2021-08-30T14:19:02.623660Z",
     "shell.execute_reply": "2021-08-30T14:19:02.623192Z",
     "shell.execute_reply.started": "2021-08-30T14:19:02.298212Z"
    }
   },
   "outputs": [],
   "source": [
    "import numpy as np\n",
    "import random\n",
    "from matplotlib               import pyplot as plt\n",
    "from matplotlib.pyplot        import figure, legend\n",
    "\n",
    "import lib.temperature as temperature\n",
    "import lib.mc_density  as mc_density\n",
    "import lib.mc_interior as mc_interior\n",
    "import lib.allona      as allona\n",
    "import lib.constants   as constants\n",
    "import lib.profile     as profile"
   ]
  },
  {
   "cell_type": "code",
   "execution_count": 9,
   "metadata": {},
   "outputs": [],
   "source": [
    "def load_pm_format_csv(filename):\n",
    "    # load raw data\n",
    "    aa = [x.strip(\"\\n\").split(',') for x in open(filename).readlines()][1:]\n",
    "    raw = [[float(x) for x in y] for y in aa]\n",
    "    \n",
    "    # create input arrays.\n",
    "    radius = np.array(list(reversed([x[0] for x in raw])))\n",
    "    rho = np.array(list(reversed([x[1] for x in raw])))\n",
    "    temp = np.array(list(reversed([x[3] for x in raw])))\n",
    "    pressure = np.array(list(reversed([x[2] for x in raw])))\n",
    "\n",
    "    # density model\n",
    "    model = mc_density.MCDensity(radius, rho)\n",
    "    \n",
    "    # test:\n",
    "    print (\"mass of model is %s\"%model.get_mass())\n",
    "    \n",
    "    catalog = temperature.iron_sio2_water_H_catalog()\n",
    "    composition = []\n",
    "    for r,t,p  in zip(rho, temp, pressure):\n",
    "    composition.append(catalog.get_composition(t,r,p*0.9))\n",
    "    "
   ]
  },
  {
   "cell_type": "code",
   "execution_count": null,
   "metadata": {},
   "outputs": [],
   "source": []
  },
  {
   "cell_type": "code",
   "execution_count": 5,
   "metadata": {
    "execution": {
     "iopub.execute_input": "2021-08-30T14:19:02.658504Z",
     "iopub.status.busy": "2021-08-30T14:19:02.658053Z",
     "iopub.status.idle": "2021-08-30T14:19:02.686856Z",
     "shell.execute_reply": "2021-08-30T14:19:02.686447Z",
     "shell.execute_reply.started": "2021-08-30T14:19:02.658486Z"
    }
   },
   "outputs": [],
   "source": [
    "radius = np.array(list(reversed([x[6] for x in raw])))\n",
    "rho = np.array(list(reversed([x[4] for x in raw])))\n",
    "temp = np.array(list(reversed([x[3] for x in raw])))\n",
    "pressure = np.array(list(reversed([x[1]*1e10 for x in raw])))"
   ]
  },
  {
   "cell_type": "code",
   "execution_count": 6,
   "metadata": {
    "execution": {
     "iopub.execute_input": "2021-08-30T14:19:02.687688Z",
     "iopub.status.busy": "2021-08-30T14:19:02.687443Z",
     "iopub.status.idle": "2021-08-30T14:19:02.715951Z",
     "shell.execute_reply": "2021-08-30T14:19:02.715568Z",
     "shell.execute_reply.started": "2021-08-30T14:19:02.687669Z"
    }
   },
   "outputs": [],
   "source": []
  },
  {
   "cell_type": "code",
   "execution_count": 7,
   "metadata": {
    "execution": {
     "iopub.execute_input": "2021-08-30T14:19:02.717793Z",
     "iopub.status.busy": "2021-08-30T14:19:02.717338Z",
     "iopub.status.idle": "2021-08-30T14:19:02.752490Z",
     "shell.execute_reply": "2021-08-30T14:19:02.752109Z",
     "shell.execute_reply.started": "2021-08-30T14:19:02.717775Z"
    }
   },
   "outputs": [
    {
     "data": {
      "text/plain": [
       "8.667915590007997e+28"
      ]
     },
     "execution_count": 7,
     "metadata": {},
     "output_type": "execute_result"
    }
   ],
   "source": [
    "model.get_mass()"
   ]
  },
  {
   "cell_type": "code",
   "execution_count": 8,
   "metadata": {
    "execution": {
     "iopub.execute_input": "2021-08-30T14:19:02.753451Z",
     "iopub.status.busy": "2021-08-30T14:19:02.753065Z",
     "iopub.status.idle": "2021-08-30T14:19:02.900675Z",
     "shell.execute_reply": "2021-08-30T14:19:02.900265Z",
     "shell.execute_reply.started": "2021-08-30T14:19:02.753434Z"
    }
   },
   "outputs": [
    {
     "data": {
      "image/png": "[encoded data removed]",
      "text/plain": [
       "<Figure size 432x288 with 1 Axes>"
      ]
     },
     "metadata": {
      "needs_background": "light"
     },
     "output_type": "display_data"
    }
   ],
   "source": [
    "pressure = model.get_pressure()\n",
    "model.plot_densities()"
   ]
  },
  {
   "cell_type": "code",
   "execution_count": 9,
   "metadata": {
    "execution": {
     "iopub.execute_input": "2021-08-30T14:19:02.901658Z",
     "iopub.status.busy": "2021-08-30T14:19:02.901334Z",
     "iopub.status.idle": "2021-08-30T14:19:03.358754Z",
     "shell.execute_reply": "2021-08-30T14:19:03.358312Z",
     "shell.execute_reply.started": "2021-08-30T14:19:02.901640Z"
    }
   },
   "outputs": [
    {
     "name": "stderr",
     "output_type": "stream",
     "text": [
      "\u001b[0m\u001b[33m[PYFLYBY]\u001b[0m from matplotlib.pyplot import plot\n"
     ]
    },
    {
     "data": {
      "text/plain": [
       "[<matplotlib.lines.Line2D at 0x7f8733a52910>]"
      ]
     },
     "execution_count": 9,
     "metadata": {},
     "output_type": "execute_result"
    },
    {
     "data": {
      "image/png": "[encoded data removed]",
      "text/plain": [
       "<Figure size 432x288 with 1 Axes>"
      ]
     },
     "metadata": {
      "needs_background": "light"
     },
     "output_type": "display_data"
    }
   ],
   "source": [
    "model.plot_pressure()\n",
    "plot(model._radii, pressure)"
   ]
  },
  {
   "cell_type": "code",
   "execution_count": 10,
   "metadata": {
    "execution": {
     "iopub.execute_input": "2021-08-30T14:19:03.359802Z",
     "iopub.status.busy": "2021-08-30T14:19:03.359432Z",
     "iopub.status.idle": "2021-08-30T14:19:03.748219Z",
     "shell.execute_reply": "2021-08-30T14:19:03.747705Z",
     "shell.execute_reply.started": "2021-08-30T14:19:03.359783Z"
    }
   },
   "outputs": [],
   "source": [
    "catalog = temperature.iron_sio2_water_H_catalog()\n",
    "composition = []\n",
    "for r,t,p  in zip(rho, temp, pressure):\n",
    "    composition.append(catalog.get_composition(t,r,p*0.9))"
   ]
  },
  {
   "cell_type": "code",
   "execution_count": 19,
   "metadata": {
    "execution": {
     "iopub.execute_input": "2021-08-30T14:19:26.089034Z",
     "iopub.status.busy": "2021-08-30T14:19:26.088644Z",
     "iopub.status.idle": "2021-08-30T14:19:26.094907Z",
     "shell.execute_reply": "2021-08-30T14:19:26.094478Z",
     "shell.execute_reply.started": "2021-08-30T14:19:26.089010Z"
    }
   },
   "outputs": [],
   "source": [
    "#composition"
   ]
  },
  {
   "cell_type": "code",
   "execution_count": 12,
   "metadata": {
    "execution": {
     "iopub.execute_input": "2021-08-30T14:19:03.770157Z",
     "iopub.status.busy": "2021-08-30T14:19:03.769681Z",
     "iopub.status.idle": "2021-08-30T14:19:03.805768Z",
     "shell.execute_reply": "2021-08-30T14:19:03.805327Z",
     "shell.execute_reply.started": "2021-08-30T14:19:03.770138Z"
    }
   },
   "outputs": [],
   "source": [
    "\n",
    "mix = np.array([catalog.composition_to_mix(x) for x in composition])\n",
    "#for "
   ]
  },
  {
   "cell_type": "code",
   "execution_count": 13,
   "metadata": {
    "execution": {
     "iopub.execute_input": "2021-08-30T14:19:03.806770Z",
     "iopub.status.busy": "2021-08-30T14:19:03.806515Z",
     "iopub.status.idle": "2021-08-30T14:19:03.836258Z",
     "shell.execute_reply": "2021-08-30T14:19:03.835845Z",
     "shell.execute_reply.started": "2021-08-30T14:19:03.806751Z"
    }
   },
   "outputs": [],
   "source": [
    "planet = mc_interior.MCInterior(radius, rho, mix, catalog)\n",
    "m_profile = profile.TemperatureProfile(catalog, planet)"
   ]
  },
  {
   "cell_type": "code",
   "execution_count": 14,
   "metadata": {
    "execution": {
     "iopub.execute_input": "2021-08-30T14:19:03.837103Z",
     "iopub.status.busy": "2021-08-30T14:19:03.836846Z",
     "iopub.status.idle": "2021-08-30T14:19:16.181301Z",
     "shell.execute_reply": "2021-08-30T14:19:16.180788Z",
     "shell.execute_reply.started": "2021-08-30T14:19:03.837085Z"
    }
   },
   "outputs": [
    {
     "data": {
      "image/png": "[encoded data removed]",
      "text/plain": [
       "<Figure size 432x288 with 1 Axes>"
      ]
     },
     "metadata": {
      "needs_background": "light"
     },
     "output_type": "display_data"
    },
    {
     "data": {
      "image/png": "[encoded data removed]",
      "text/plain": [
       "<Figure size 432x288 with 1 Axes>"
      ]
     },
     "metadata": {
      "needs_background": "light"
     },
     "output_type": "display_data"
    }
   ],
   "source": [
    "planet.plot_temp()\n",
    "figure()\n",
    "planet.plot_composition()"
   ]
  },
  {
   "cell_type": "code",
   "execution_count": 15,
   "metadata": {
    "execution": {
     "iopub.execute_input": "2021-08-30T14:19:16.182640Z",
     "iopub.status.busy": "2021-08-30T14:19:16.182297Z",
     "iopub.status.idle": "2021-08-30T14:19:16.191383Z",
     "shell.execute_reply": "2021-08-30T14:19:16.190967Z",
     "shell.execute_reply.started": "2021-08-30T14:19:16.182618Z"
    }
   },
   "outputs": [],
   "source": [
    "#m_profile.plot_temperature_profile()"
   ]
  },
  {
   "cell_type": "code",
   "execution_count": 16,
   "metadata": {
    "execution": {
     "iopub.execute_input": "2021-08-30T14:19:16.192499Z",
     "iopub.status.busy": "2021-08-30T14:19:16.191993Z",
     "iopub.status.idle": "2021-08-30T14:19:16.226408Z",
     "shell.execute_reply": "2021-08-30T14:19:16.225990Z",
     "shell.execute_reply.started": "2021-08-30T14:19:16.192480Z"
    }
   },
   "outputs": [],
   "source": [
    "pressure = planet.get_pressure()\n",
    "dd = planet._densities"
   ]
  },
  {
   "cell_type": "code",
   "execution_count": 17,
   "metadata": {
    "execution": {
     "iopub.execute_input": "2021-08-30T14:19:16.227358Z",
     "iopub.status.busy": "2021-08-30T14:19:16.227005Z",
     "iopub.status.idle": "2021-08-30T14:19:16.256830Z",
     "shell.execute_reply": "2021-08-30T14:19:16.256438Z",
     "shell.execute_reply.started": "2021-08-30T14:19:16.227340Z"
    }
   },
   "outputs": [
    {
     "data": {
      "text/plain": [
       "(10.3, 8260760902106.12, 1.4492864461670847)"
      ]
     },
     "execution_count": 17,
     "metadata": {},
     "output_type": "execute_result"
    }
   ],
   "source": [
    "dd[0], pressure[0], catalog.mix_to_composition(planet._mix[0])"
   ]
  },
  {
   "cell_type": "code",
   "execution_count": 18,
   "metadata": {
    "execution": {
     "iopub.execute_input": "2021-08-30T14:19:16.257866Z",
     "iopub.status.busy": "2021-08-30T14:19:16.257423Z",
     "iopub.status.idle": "2021-08-30T14:19:16.293265Z",
     "shell.execute_reply": "2021-08-30T14:19:16.292853Z",
     "shell.execute_reply.started": "2021-08-30T14:19:16.257848Z"
    }
   },
   "outputs": [],
   "source": [
    "catalog.get_temp(1.0, dd[0], pressure[0])"
   ]
  },
  {
   "cell_type": "code",
   "execution_count": null,
   "metadata": {},
   "outputs": [],
   "source": []
  }
 ],
 "metadata": {
  "kernelspec": {
   "display_name": "Python 3",
   "language": "python",
   "name": "python3"
  },
  "language_info": {
   "codemirror_mode": {
    "name": "ipython",
    "version": 3
   },
   "file_extension": ".py",
   "mimetype": "text/x-python",
   "name": "python",
   "nbconvert_exporter": "python",
   "pygments_lexer": "ipython3",
   "version": "3.7.4"
  }
 },
 "nbformat": 4,
 "nbformat_minor": 4
}
