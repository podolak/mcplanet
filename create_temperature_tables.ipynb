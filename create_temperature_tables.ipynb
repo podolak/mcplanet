{
 "cells": [
  {
   "cell_type": "code",
   "execution_count": 1,
   "metadata": {
    "execution": {
     "iopub.execute_input": "2022-09-08T15:51:09.128716Z",
     "iopub.status.busy": "2022-09-08T15:51:09.128490Z",
     "iopub.status.idle": "2022-09-08T15:51:09.206202Z",
     "shell.execute_reply": "2022-09-08T15:51:09.205583Z",
     "shell.execute_reply.started": "2022-09-08T15:51:09.128657Z"
    },
    "tags": [
     "pyflyby-cell"
    ]
   },
   "outputs": [],
   "source": [
    "# This notebook contains the code to (re)-generate all our standardized temperature tables\n",
    "# from the raw data we got.\n",
    "#\n",
    "# Raw data come from two sources:\n",
    "# 1) H/He tables come from Allona Vazan.\n",
    "# 2) Fe/SiO2/H2O tables come from ____. \n",
    "\n",
    "\n",
    "\n",
    "# WARNING: THIS NOTEBOOK IS ONLY MEANT TO BE RUN IF THE LIBRARY IS DOWNLOADED LOCALLY!\n"
   ]
  },
  {
   "cell_type": "code",
   "execution_count": 2,
   "metadata": {
    "execution": {
     "iopub.execute_input": "2022-09-08T15:51:09.207256Z",
     "iopub.status.busy": "2022-09-08T15:51:09.207021Z",
     "iopub.status.idle": "2022-09-08T15:51:09.341160Z",
     "shell.execute_reply": "2022-09-08T15:51:09.340338Z",
     "shell.execute_reply.started": "2022-09-08T15:51:09.207237Z"
    },
    "tags": []
   },
   "outputs": [],
   "source": [
    "import csv\n",
    "import math\n",
    "import numpy                  as np\n",
    "\n",
    "from lib.temperature import TemperatureTable"
   ]
  },
  {
   "cell_type": "code",
   "execution_count": 3,
   "metadata": {
    "execution": {
     "iopub.execute_input": "2022-09-08T15:51:09.342646Z",
     "iopub.status.busy": "2022-09-08T15:51:09.342314Z",
     "iopub.status.idle": "2022-09-08T15:51:09.359063Z",
     "shell.execute_reply": "2022-09-08T15:51:09.358409Z",
     "shell.execute_reply.started": "2022-09-08T15:51:09.342601Z"
    },
    "tags": []
   },
   "outputs": [],
   "source": [
    "TEMP_RANGE = np.arange(1.06, 7.06, 0.08)\n",
    "PRESSURE_RANGE = np.arange(-6,19,0.2)\n",
    "DENSITY_RANGE = np.arange(-14,3.2,0.05)\n",
    "\n",
    "\n",
    "# Density of two mixtures at same temp/pressure. \n",
    "def get_rho(rho1, rho2, mix1, mix2):\n",
    "    return 1.0/(mix1/rho1 + mix2/rho2)"
   ]
  },
  {
   "cell_type": "code",
   "execution_count": 4,
   "metadata": {
    "execution": {
     "iopub.execute_input": "2022-09-08T15:51:09.360555Z",
     "iopub.status.busy": "2022-09-08T15:51:09.360119Z",
     "iopub.status.idle": "2022-09-08T15:51:09.394284Z",
     "shell.execute_reply": "2022-09-08T15:51:09.393648Z",
     "shell.execute_reply.started": "2022-09-08T15:51:09.360516Z"
    },
    "tags": []
   },
   "outputs": [],
   "source": [
    "def load_CH4_file(filename):\n",
    "    data = [i.strip('\\n').split() for i in open(filename)]\n",
    "    # Header\n",
    "    num_rho, num_t = [int(float(x)) for x in data[0]]\n",
    "    \n",
    "    # Load densities\n",
    "    densities = []\n",
    "    data_row = 2\n",
    "    while len(densities) < num_rho:\n",
    "        densities+=[float(x) for x in data[data_row]]\n",
    "        data_row+=1\n",
    "        \n",
    "    # Load temps\n",
    "    data_row+=1\n",
    "    temps = []\n",
    "    while len(temps) < num_t:\n",
    "        temps+=[float(x) for x in data[data_row]]\n",
    "        data_row+=1\n",
    "    \n",
    "    # Each temp has a series of pressures per density:\n",
    "    pressures = []\n",
    "    for i in range(num_t):\n",
    "        row = []\n",
    "        data_row+=1\n",
    "        while len(row) < num_rho:\n",
    "            # Pressure is in GPa, so need to convert to dyn/cm^2\n",
    "            row+=[float(x)*1e10 for x in data[data_row]]\n",
    "            data_row+=1\n",
    "        pressures+=row\n",
    "    \n",
    "    # re-sort to temp/pressure -> density\n",
    "    ret_temp = []\n",
    "    ret_density = []\n",
    "    for i in range(num_t):\n",
    "        for j in range(num_rho):\n",
    "            ret_temp.append(temps[i])\n",
    "            ret_density.append(densities[j])\n",
    "#            retval.append((temps[i], pressures[i][j], densities[j]))\n",
    "    return ret_temp, pressures, ret_density\n",
    "\n",
    "def create_temp_pressure_from_CH4_table(input_name, output_name, composition = 0):\n",
    "    temp, pressure, density = load_CH4_file(input_name)\n",
    "    t_table = TemperatureTable(0, input_name, temp, pressure, density)\n",
    "    \n",
    "    data = []\n",
    "    for temp in TEMP_RANGE:\n",
    "        for pressure in PRESSURE_RANGE:\n",
    "            temp = round(temp, 2)\n",
    "            pressure = round(pressure, 1)   \n",
    "            density = t_table.get_density(10**temp, 10**pressure)\n",
    "        \n",
    "            if density is not None and density>0:\n",
    "                data.append((temp, pressure, np.log10(density)))\n",
    "    \n",
    "    with open(output_name,\"w\") as fp:\n",
    "        # Write header, just for clarification\n",
    "        fp.write(\"Composition = %s\\n\"%composition)\n",
    "        fp.write(\"log(temp), log pressure (dyne/cm^2), log density (g/cc)\\n\")\n",
    "        for d in data:\n",
    "            fp.write(\",\".join(map(lambda x : str(x),d))+\"\\n\")\n",
    "\n"
   ]
  },
  {
   "cell_type": "code",
   "execution_count": 5,
   "metadata": {
    "execution": {
     "iopub.execute_input": "2022-09-08T15:51:09.395544Z",
     "iopub.status.busy": "2022-09-08T15:51:09.395307Z",
     "iopub.status.idle": "2022-09-08T15:51:09.453430Z",
     "shell.execute_reply": "2022-09-08T15:51:09.452896Z",
     "shell.execute_reply.started": "2022-09-08T15:51:09.395523Z"
    }
   },
   "outputs": [],
   "source": [
    "# Code to load/parse/combine Allona's files.\n",
    "           \n",
    "def load_temp_pressure_alona_file(filename):    \n",
    "    fp = open(filename)\n",
    "    data = fp.readlines()\n",
    "    retval = []\n",
    "    row_idx = 0\n",
    "    \n",
    "    while row_idx < len(data):\n",
    "        # The header has the log temperature and the number of lines.\n",
    "        temp, n_rows = [x for x in data[row_idx].split()]\n",
    "        temp = float(temp)\n",
    "        n_rows=int(n_rows)\n",
    "        for i in range(n_rows):\n",
    "            row = [x for x in data[row_idx+1+i].split()]\n",
    "            pressure = float(row[0])\n",
    "            rho = float(row[3])\n",
    "            retval.append((temp, pressure, rho))\n",
    "        row_idx += n_rows + 1\n",
    "    \n",
    "    return dict([((float(x[0]), float(x[1])), float(x[2])) for x in retval])\n",
    "            \n",
    "def combine_temp_pressure_alona_files(file1, file2, pct1, pct2, outname, composition=0):\n",
    "    comp_1 = load_temp_pressure_alona_file(file1)\n",
    "    comp_2 = load_temp_pressure_alona_file(file2)\n",
    "    data = []\n",
    "    for temp in TEMP_RANGE:\n",
    "        for pressure in PRESSURE_RANGE:\n",
    "            temp = round(temp, 2)\n",
    "            pressure = round(pressure, 1)\n",
    "            if (temp, pressure) in comp_1 and (temp, pressure) in comp_2:\n",
    "                # need to compute new rho.\n",
    "                rho_1 = 10**comp_1[(temp, pressure)]\n",
    "                rho_2 = 10**comp_2[(temp, pressure)]\n",
    "                \n",
    "                rho = get_rho(rho_1, rho_2, mix1=pct1, mix2=pct2)\n",
    "                data.append((temp, pressure, np.log10(rho)))\n",
    "                \n",
    "    with open(outname,\"w\") as fp:\n",
    "        # Write header, just for clarification\n",
    "        fp.write(\"Composition = %s\\n\"%composition)\n",
    "        fp.write(\"log temp (K), log pressure (dyne/cm^2), logdensity (g/cc)\\n\")\n",
    "        for d in data:\n",
    "            fp.write(\",\".join(map(lambda x : str(x),d))+\"\\n\")"
   ]
  },
  {
   "cell_type": "code",
   "execution_count": 6,
   "metadata": {
    "execution": {
     "iopub.execute_input": "2022-09-08T15:51:09.455255Z",
     "iopub.status.busy": "2022-09-08T15:51:09.454979Z",
     "iopub.status.idle": "2022-09-08T15:51:09.494318Z",
     "shell.execute_reply": "2022-09-08T15:51:09.493648Z",
     "shell.execute_reply.started": "2022-09-08T15:51:09.455230Z"
    }
   },
   "outputs": [],
   "source": [
    "# Code to read \"newtab_AV\" files.\n",
    "\n",
    "def get_AV_table(filename, include_entropy, start_row=7):\n",
    "    data = [i.strip('\\n').split() for i in open(filename)][start_row:]\n",
    "    temp = [float(x[0]) for x in data]\n",
    "    density = [float(x[1]) for x in data]\n",
    "    pressure = [float(x[2]) for x in data]\n",
    "\n",
    "    # Convert units\n",
    "\n",
    "    # Temperature is in Kev, so mutiple by 1.16e7\n",
    "    temp = 10**np.array(temp)*1.1605e7\n",
    "\n",
    "    # Density is in gr/cc, so no conversion\n",
    "    density = 10**np.array(density)\n",
    "\n",
    "    # Pressure is in krk/cc, so mupltiply by 1e16 (I think?)\n",
    "    pressure = 10**np.array(pressure)*1e16\n",
    "\n",
    "    t_table = TemperatureTable(0, filename, temp, pressure, density)\n",
    "    \n",
    "    if include_entropy:\n",
    "        # We're going to fake things just create a t-table where \"density\" is the entropy column (I believe the last column)\n",
    "        entropy =  [float(x[4]) for x in data]\n",
    "        entropy_table = TemperatureTable(0, filename, temp, pressure, entropy)\n",
    "        return t_table, entropy_table\n",
    "    \n",
    "    return t_table\n",
    "    \n",
    "def create_temp_pressure_from_AV_table(input_name, output_name, composition = 0, add_entropy = False, start_row=7):\n",
    "    if add_entropy:\n",
    "        av_table, ev_table = get_AV_table(input_name, True, start_row)\n",
    "    else:\n",
    "        av_table = get_AV_table(input_name, False)\n",
    "\n",
    "    data = []\n",
    "    for temp in TEMP_RANGE:\n",
    "        for pressure in PRESSURE_RANGE:\n",
    "            temp = round(temp, 2)\n",
    "            pressure = round(pressure, 1)\n",
    "            density = av_table.get_density(10**temp, 10**pressure)\n",
    "            if density is not None:\n",
    "                if add_entropy:\n",
    "                    entropy = ev_table.get_density(10**temp, 10**pressure)\n",
    "                    data.append((temp, pressure, np.log10(density), np.log10(entropy)))\n",
    "                else:\n",
    "                    data.append((temp, pressure, np.log10(density)))\n",
    "    \n",
    "    with open(output_name,\"w\") as fp:\n",
    "        # Write header, just for clarification\n",
    "        fp.write(\"Composition = %s\\n\"%composition)\n",
    "        if add_entropy:\n",
    "            fp.write(\"log(temp), log pressure (dyne/cm^2), log density (g/cc), log entropy (log os jrk/g*kev)\\n\")\n",
    "        else:\n",
    "            fp.write(\"log(temp), log pressure (dyne/cm^2), log density (g/cc)\\n\")\n",
    "        for d in data:\n",
    "            fp.write(\",\".join(map(lambda x : str(x),d))+\"\\n\")\n"
   ]
  },
  {
   "cell_type": "code",
   "execution_count": 7,
   "metadata": {
    "execution": {
     "iopub.execute_input": "2022-09-08T15:51:09.495406Z",
     "iopub.status.busy": "2022-09-08T15:51:09.495185Z",
     "iopub.status.idle": "2022-09-08T15:51:09.525445Z",
     "shell.execute_reply": "2022-09-08T15:51:09.524760Z",
     "shell.execute_reply.started": "2022-09-08T15:51:09.495387Z"
    }
   },
   "outputs": [],
   "source": [
    "# This section is for combining files in our own format to create new compositions.\n",
    "\n",
    "# All the tables we create have the same ranges, so rather than \n",
    "# go through the TemperatureTable again, just go through the range\n",
    "# and create composite densities if needed.\n",
    "\n",
    "def load_temp_pressure_file(filename):\n",
    "    data = [i.strip('\\n').split(',') for i in open(filename)][2:]\n",
    "    return dict([((float(x[0]), float(x[1])), float(x[2])) for x in data])\n",
    "\n",
    "def combine_temp_pressure_files(file1, file2, pct1, pct2, outname, composition=0):\n",
    "    comp_1 = load_temp_pressure_file(file1)\n",
    "    comp_2 = load_temp_pressure_file(file2)\n",
    "    data = []\n",
    "    for temp in TEMP_RANGE:\n",
    "        for pressure in PRESSURE_RANGE:\n",
    "            temp = round(temp, 2)\n",
    "            pressure = round(pressure, 1)\n",
    "            if (temp, pressure) in comp_1 and (temp, pressure) in comp_2:\n",
    "                # need to compute new rho.\n",
    "                rho_1 = 10**comp_1[(temp, pressure)]\n",
    "                rho_2 = 10**comp_2[(temp, pressure)]\n",
    "                \n",
    "                rho = get_rho(rho_1, rho_2, mix1=pct1, mix2=pct2)\n",
    "                data.append((temp, pressure, np.log10(rho)))\n",
    "                \n",
    "    with open(outname,\"w\") as fp:\n",
    "        # Write header, just for clarification\n",
    "        fp.write(\"Composition = %s\\n\"%composition)\n",
    "        fp.write(\"log temp, log pressure (dyne/cm^2), logdensity (g/cc)\\n\")\n",
    "        for d in data:\n",
    "            fp.write(\",\".join(map(lambda x : str(x),d))+\"\\n\")\n"
   ]
  },
  {
   "cell_type": "code",
   "execution_count": null,
   "metadata": {},
   "outputs": [],
   "source": []
  },
  {
   "cell_type": "code",
   "execution_count": 8,
   "metadata": {
    "execution": {
     "iopub.execute_input": "2022-09-08T15:51:09.526838Z",
     "iopub.status.busy": "2022-09-08T15:51:09.526556Z",
     "iopub.status.idle": "2022-09-08T15:51:15.353228Z",
     "shell.execute_reply": "2022-09-08T15:51:15.352727Z",
     "shell.execute_reply.started": "2022-09-08T15:51:09.526817Z"
    }
   },
   "outputs": [],
   "source": [
    "# These actually create the various files. \n",
    "# Uncomment as needed.\n",
    "\n",
    "create_temp_pressure_from_AV_table(\"data/raw_files/COtable.txt\", \"data/CO_temp_pressure_to_density.txt\", start_row=0)\n",
    "create_temp_pressure_from_AV_table(\"data/raw_files/H2O_newtab_AV.dat\", \"data/water_temp_pressure_to_density.txt\")\n",
    "create_temp_pressure_from_AV_table(\"data/raw_files/H2O_newtab_AV.dat\", \"data/water_temp_pressure_to_density_with_entropy.txt\", add_entropy=True)\n",
    "create_temp_pressure_from_AV_table(\"data/raw_files/Fe_newtab_AV.dat\", \"data/Fe_temp_pressure_to_density.txt\")\n",
    "create_temp_pressure_from_AV_table(\"data/raw_files/SiO2_newtab_AV.dat\", \"data/SiO2_temp_pressure_to_density.txt\")\n",
    "#create_temp_pressure_from_CH4_table(\"data/raw_files/CH4short.txt\", \"data/CH4_temp_pressure_to_density.txt\")\n",
    "create_temp_pressure_from_CH4_table(\"data/raw_files/CH4extend.txt\", \"data/CH4_temp_pressure_to_density.txt\")\n",
    "combine_temp_pressure_alona_files(\"data/raw_files/Htable.txt\", \"data/raw_files/Hetable.txt\", 0.725, 0.275, \"data/env_temp_pressure_to_density.txt\")\n",
    "combine_temp_pressure_alona_files(\"data/raw_files/Htable.txt\", \"data/raw_files/Hetable.txt\", 1.0, 0.0, \"data/H_temp_pressure_to_density.txt\")\n",
    "combine_temp_pressure_alona_files(\"data/raw_files/Htable.txt\", \"data/raw_files/Hetable.txt\", 0.0, 1.0, \"data/He_temp_pressure_to_density.txt\")\n",
    "combine_temp_pressure_alona_files(\"data/raw_files/Htable.txt\", \"data/raw_files/Hetable.txt\", 0.72, 0.28, \"data/allona_env_temp_pressure_to_density.txt\")\n",
    "combine_temp_pressure_files(\"data/water_temp_pressure_to_density.txt\", \"data/env_temp_pressure_to_density.txt\", 0.9, 0.1, \"data/Z90_temp_pressure_to_density.txt\", \"90% Water, 10% env\")\n",
    "combine_temp_pressure_files(\"data/water_temp_pressure_to_density.txt\", \"data/env_temp_pressure_to_density.txt\", 0.95, 0.05, \"data/Z95_temp_pressure_to_density.txt\", \"95% Water, 5% env\")\n",
    "combine_temp_pressure_files(\"data/Fe_temp_pressure_to_density.txt\", \"data/SiO2_temp_pressure_to_density.txt\", 0.24, 0.76, \"data/dunite_temp_pressure_to_density.txt\", \"24% Fe, 76% SiO2\")\n",
    "combine_temp_pressure_files(\"data/dunite_temp_pressure_to_density.txt\", \"data/water_temp_pressure_to_density.txt\", 0.65, 0.35, \"data/Z_temp_pressure_to_density.txt\", \"65% Dunite, 35% Water\")\n",
    "combine_temp_pressure_files(\"data/SiO2_temp_pressure_to_density.txt\", \"data/water_temp_pressure_to_density.txt\", 0.667, 0.333, \"data/sio2_water_2_1_temp_pressure_to_density.txt\", \"66% Sio2, 33% Water\")\n",
    "combine_temp_pressure_files(\"data/SiO2_temp_pressure_to_density.txt\", \"data/water_temp_pressure_to_density.txt\", 0.725, 0.275, \"data/sio2_water_3_1_temp_pressure_to_density.txt\", \"75% Sio2, 25% Water\")\n",
    "combine_temp_pressure_files(\"data/SiO2_temp_pressure_to_density.txt\", \"data/water_temp_pressure_to_density.txt\", 0.8, 0.2, \"data/sio2_water_4_1_temp_pressure_to_density.txt\", \"80% Sio2, 20% Water\")"
   ]
  },
  {
   "cell_type": "code",
   "execution_count": null,
   "metadata": {},
   "outputs": [],
   "source": []
  }
 ],
 "metadata": {
  "kernelspec": {
   "display_name": "Python 3",
   "language": "python",
   "name": "python3"
  },
  "language_info": {
   "codemirror_mode": {
    "name": "ipython",
    "version": 3
   },
   "file_extension": ".py",
   "mimetype": "text/x-python",
   "name": "python",
   "nbconvert_exporter": "python",
   "pygments_lexer": "ipython3",
   "version": "3.10.4"
  },
  "widgets": {
   "application/vnd.jupyter.widget-state+json": {
    "state": {},
    "version_major": 2,
    "version_minor": 0
   }
  }
 },
 "nbformat": 4,
 "nbformat_minor": 4
}
