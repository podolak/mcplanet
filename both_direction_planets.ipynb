{
 "cells": [
  {
   "cell_type": "code",
   "execution_count": 1,
   "metadata": {
    "execution": {
     "iopub.execute_input": "2022-08-16T18:22:05.203623Z",
     "iopub.status.busy": "2022-08-16T18:22:05.203308Z",
     "iopub.status.idle": "2022-08-16T18:22:05.278119Z",
     "shell.execute_reply": "2022-08-16T18:22:05.277785Z",
     "shell.execute_reply.started": "2022-08-16T18:22:05.203571Z"
    },
    "tags": [
     "pyflyby-cell"
    ]
   },
   "outputs": [],
   "source": [
    "# This notebook is for creating random monotonic models of Uranus.\n",
    "# The only constraints on the model are the that innermost shell has a temperature less than 50K\n",
    "# and that the temperature/density/composition/pressure are monotonically decreasing as the radius increases."
   ]
  },
  {
   "cell_type": "code",
   "execution_count": 2,
   "metadata": {
    "execution": {
     "iopub.execute_input": "2022-08-16T18:22:05.278801Z",
     "iopub.status.busy": "2022-08-16T18:22:05.278629Z",
     "iopub.status.idle": "2022-08-16T18:22:06.074955Z",
     "shell.execute_reply": "2022-08-16T18:22:06.074037Z",
     "shell.execute_reply.started": "2022-08-16T18:22:05.278784Z"
    }
   },
   "outputs": [],
   "source": [
    "import random\n",
    "import numpy           as np\n",
    "from matplotlib        import pyplot as plt\n",
    "from matplotlib.pyplot import figure, legend\n",
    "\n",
    "import lib.constants   as constants\n",
    "import lib.profile     as profile\n",
    "import lib.temperature as temperature\n",
    "import lib.mc_interior as mc_interior\n",
    "EPS = 1"
   ]
  },
  {
   "cell_type": "code",
   "execution_count": 3,
   "metadata": {
    "execution": {
     "iopub.execute_input": "2022-08-16T18:22:06.076869Z",
     "iopub.status.busy": "2022-08-16T18:22:06.076611Z",
     "iopub.status.idle": "2022-08-16T18:22:06.107606Z",
     "shell.execute_reply": "2022-08-16T18:22:06.107255Z",
     "shell.execute_reply.started": "2022-08-16T18:22:06.076849Z"
    }
   },
   "outputs": [],
   "source": [
    "# Set for Uranus\n",
    "mass = constants.URANUS.mass\n",
    "moment_ratio = constants.URANUS.moment_ratio\n",
    "radius = constants.URANUS.radius\n",
    "num_shells = 100\n"
   ]
  },
  {
   "cell_type": "code",
   "execution_count": 4,
   "metadata": {
    "execution": {
     "iopub.execute_input": "2022-08-16T18:22:06.108354Z",
     "iopub.status.busy": "2022-08-16T18:22:06.108180Z",
     "iopub.status.idle": "2022-08-16T18:22:06.157055Z",
     "shell.execute_reply": "2022-08-16T18:22:06.156730Z",
     "shell.execute_reply.started": "2022-08-16T18:22:06.108338Z"
    }
   },
   "outputs": [],
   "source": [
    "SMOOTH = 201\n",
    "ADD_CH4_TO_CATALOG = True\n",
    "MIN_TEMP = 70\n",
    "MAX_TEMP = 50000"
   ]
  },
  {
   "cell_type": "code",
   "execution_count": 5,
   "metadata": {
    "execution": {
     "iopub.execute_input": "2022-08-16T18:22:06.157812Z",
     "iopub.status.busy": "2022-08-16T18:22:06.157649Z",
     "iopub.status.idle": "2022-08-16T18:22:06.448961Z",
     "shell.execute_reply": "2022-08-16T18:22:06.448540Z",
     "shell.execute_reply.started": "2022-08-16T18:22:06.157797Z"
    },
    "tags": []
   },
   "outputs": [],
   "source": [
    "# Create a bunch of random models.\n",
    "# catalog = temperature.iron_sio2_water_env_catalog() if USE_IRON else temperature.sio2_water_env_catalog()\n",
    "#catalog = temperature.iron_sio2_water_eos_env_catalog() if USE_IRON else temperature.sio2_water_eos_env_catalog()\n",
    "catalog = temperature.iron_sio2_water_ch4_eos_env_catalog() if ADD_CH4_TO_CATALOG else temperature.iron_sio2_water_eos_env_catalog()\n",
    "def best_model(seed=None, catalog=catalog, min_temp=MIN_TEMP, max_temp=MAX_TEMP, smooth=SMOOTH, full_model=False, debug=False):\n",
    "    # First do the inverse\n",
    "    seed, i_m, inner_temp, i_count = profile.get_fixed_temp_model(mass, moment_ratio, radius, num_shells, \n",
    "                                                                max_temp=min_temp,\n",
    "                                                                seed=seed,\n",
    "                                                                temperature_catalog=catalog,\n",
    "                                                                full_model=True,\n",
    "                                                                smooth=smooth,\n",
    "                                                                inverse=True)\n",
    "    retval = [seed]\n",
    "    if i_m is None:\n",
    "        inner_temp = max_temp\n",
    "        retval.append((None, None, None))\n",
    "    \n",
    "    # Otherwise, need to generate the forward model.\n",
    "    else:\n",
    "        retval.append((i_m.get_mix_ratios(), inner_temp, i_count))\n",
    "\n",
    "    seed, f_m, inner_temp, f_count = profile.get_fixed_temp_model(mass, moment_ratio, radius, num_shells, \n",
    "                                                                max_temp=max(max_temp, inner_temp+EPS),\n",
    "                                                                seed=seed,\n",
    "                                                                temperature_catalog=catalog,\n",
    "                                                                full_model=True,\n",
    "                                                                smooth=smooth,\n",
    "                                                                inverse=False,\n",
    "                                                                debug=debug)\n",
    "    if f_m is None:\n",
    "        retval.append((None, None, None))\n",
    "    else:\n",
    "        retval.append((f_m.get_mix_ratios(), inner_temp, f_count))\n",
    "        \n",
    "    if i_m is None or f_m is None:\n",
    "        retval.append((None, None, None))\n",
    "        return retval\n",
    " \n",
    "    # Now do the both_ends model\n",
    "    cf = f_m.get_composition()\n",
    "    ci = i_m.get_composition()\n",
    "\n",
    "    cc = [x if abs(x) > abs(y) else y for (x,y) in zip(cf,ci)]\n",
    "    mix = []\n",
    "    for comp in cc:\n",
    "        mix.append(catalog.composition_to_mix(comp))\n",
    "                      \n",
    "    both =  mc_interior.MCInterior(i_m.get_radii(), i_m.get_densities(),mix, catalog) \n",
    "    retval.append((both.get_mix_ratios(), both.get_inner_temp(), max(f_count, i_count)))\n",
    "    \n",
    "    if full_model:\n",
    "        # Plot density\n",
    "        #both.plot_densities()\n",
    "        #figure()\n",
    "\n",
    "        # Plot pressure\n",
    "        #both.plot_pressure()\n",
    "        #figure()\n",
    "\n",
    "        # Plot temperature\n",
    "        both.plot_temp()\n",
    "        #f_m.plot_temp()\n",
    "        figure()\n",
    "\n",
    "        # Plot composition\n",
    "        #both.plot_mix()\n",
    "        both.plot_mix()\n",
    "        figure()\n",
    "\n",
    "        if f_m is not None:\n",
    "            f_m.plot_composition(\"forward composition\")\n",
    "        i_m.plot_composition(\"inverse composition\")\n",
    "        both.plot_composition(\"both composition\")\n",
    "        figure()\n",
    "        # plot temp profiles\n",
    "        m_profile = profile.TemperatureProfile(catalog, both)\n",
    "        m_profile.plot_temperature_profile()\n",
    "        #figure()\n",
    "        #m_profile.plot_water_env_temperature_profile()\n",
    "        #figure()\n",
    "        #m_profile.plot_rock_water_temperature_profile()\n",
    "        retval.append(both)\n",
    "\n",
    "    return retval\n",
    "    \n",
    "def save_models(filename, model_list):\n",
    "    fp = open(filename, \"w\")\n",
    "    fp.write(\"seed, inv_env, inv_water, inv_sio2, inv_iron, inv_temp, inv_count, fwd_env, fwd_water, fwd_sio2, fwd_iron, fwd_temp, fwd_count, bth_env, bth_water, bth_sio2, bth_iron, bth_temp, bth_count\\n\")\n",
    "    for model in model_list:\n",
    "        seed, inv, fwd, bth = model\n",
    "        def to_list(x):\n",
    "            if x[0] is None:\n",
    "                return [None, None, None, x[1], x[2]]\n",
    "            else:\n",
    "                return x[0] + [x[1], x[2]]\n",
    "        line = [seed]+to_list(inv)+to_list(fwd)+to_list(bth)\n",
    "        #print(line)\n",
    "        fp.write(\",\".join([str(x) for x in line])+'\\n')\n",
    "    fp.close()"
   ]
  },
  {
   "cell_type": "code",
   "execution_count": 6,
   "metadata": {
    "execution": {
     "iopub.execute_input": "2022-08-16T18:22:06.450409Z",
     "iopub.status.busy": "2022-08-16T18:22:06.450215Z",
     "iopub.status.idle": "2022-08-16T18:22:11.076093Z",
     "shell.execute_reply": "2022-08-16T18:22:11.075561Z",
     "shell.execute_reply.started": "2022-08-16T18:22:06.450391Z"
    },
    "tags": []
   },
   "outputs": [
    {
     "name": "stdout",
     "output_type": "stream",
     "text": [
      "errors in 0 models\n"
     ]
    }
   ],
   "source": [
    "good_models = []\n",
    "bad_models = []\n",
    "error_models = []\n",
    "for i in range(1):\n",
    "    try:\n",
    "        retval = best_model(max_temp=MAX_TEMP)\n",
    " \n",
    "        seed, inv, fwd, bth = retval\n",
    "        if inv[0] is None and fwd[0] is None and bth[0] is None:\n",
    "            bad_models.append((seed, inv, fwd, bth))\n",
    "        else:\n",
    "            good_models.append((seed, inv, fwd, bth))\n",
    "    except:\n",
    "        error_models.append(retval)\n",
    "        \n",
    "print(\"errors in %s models\"%len(error_models))"
   ]
  },
  {
   "cell_type": "code",
   "execution_count": null,
   "metadata": {
    "execution": {
     "iopub.execute_input": "2022-08-16T18:22:11.077370Z",
     "iopub.status.busy": "2022-08-16T18:22:11.077146Z"
    },
    "tags": []
   },
   "outputs": [
    {
     "name": "stdout",
     "output_type": "stream",
     "text": [
      "> \u001b[0;32m/u/podolak/notebooks/mcplanet/lib/profile.py\u001b[0m(102)\u001b[0;36m_monotonic_composition\u001b[0;34m()\u001b[0m\n",
      "\u001b[0;32m    101 \u001b[0;31m                        \u001b[0;32mimport\u001b[0m \u001b[0mipdb\u001b[0m\u001b[0;34m;\u001b[0m\u001b[0mipdb\u001b[0m\u001b[0;34m.\u001b[0m\u001b[0mset_trace\u001b[0m\u001b[0;34m(\u001b[0m\u001b[0;34m)\u001b[0m\u001b[0;34m\u001b[0m\u001b[0;34m\u001b[0m\u001b[0m\n",
      "\u001b[0m\u001b[0;32m--> 102 \u001b[0;31m                    \u001b[0mcomps\u001b[0m\u001b[0;34m.\u001b[0m\u001b[0mappend\u001b[0m\u001b[0;34m(\u001b[0m\u001b[0;32mNone\u001b[0m\u001b[0;34m)\u001b[0m\u001b[0;34m\u001b[0m\u001b[0;34m\u001b[0m\u001b[0m\n",
      "\u001b[0m\u001b[0;32m    103 \u001b[0;31m                    \u001b[0mtemps\u001b[0m\u001b[0;34m.\u001b[0m\u001b[0mappend\u001b[0m\u001b[0;34m(\u001b[0m\u001b[0;32mNone\u001b[0m\u001b[0;34m)\u001b[0m\u001b[0;34m\u001b[0m\u001b[0;34m\u001b[0m\u001b[0m\n",
      "\u001b[0m\n"
     ]
    },
    {
     "name": "stdin",
     "output_type": "stream",
     "text": [
      "ipdb>  self._catalog.max_log_temp(-0.5, 363805603730.5351)\n"
     ]
    },
    {
     "name": "stdout",
     "output_type": "stream",
     "text": [
      "3.94\n"
     ]
    },
    {
     "name": "stdin",
     "output_type": "stream",
     "text": [
      "ipdb>  self._catalog.max_log_temp(0.5, 363805603730.5351)\n"
     ]
    },
    {
     "name": "stdout",
     "output_type": "stream",
     "text": [
      "6.02\n"
     ]
    }
   ],
   "source": [
    "aa = best_model(227.999739073, temperature.iron_sio2_water_ch4_eos_env_catalog(), max_temp=20000, min_temp=0, full_model=True, smooth=201, debug=True)"
   ]
  },
  {
   "cell_type": "code",
   "execution_count": null,
   "metadata": {
    "tags": []
   },
   "outputs": [],
   "source": [
    "aa"
   ]
  },
  {
   "cell_type": "code",
   "execution_count": null,
   "metadata": {
    "tags": []
   },
   "outputs": [],
   "source": [
    "#aa = best_model(227.999739073, temperature.iron_sio2_water_eos_env_catalog(), max_temp=50000, min_temp=0, full_model=True, smooth=201)[-1]"
   ]
  },
  {
   "cell_type": "code",
   "execution_count": null,
   "metadata": {
    "tags": []
   },
   "outputs": [],
   "source": [
    "#aa.get_mix_ratios()"
   ]
  },
  {
   "cell_type": "code",
   "execution_count": null,
   "metadata": {
    "tags": []
   },
   "outputs": [],
   "source": [
    "model = aa[-1]"
   ]
  },
  {
   "cell_type": "code",
   "execution_count": null,
   "metadata": {
    "tags": []
   },
   "outputs": [],
   "source": [
    "loc = -9\n",
    "rho = model._densities[loc]\n",
    "pressure = model.get_pressure()[loc]\n",
    "comp = model.get_composition()[loc]"
   ]
  },
  {
   "cell_type": "code",
   "execution_count": null,
   "metadata": {
    "tags": []
   },
   "outputs": [],
   "source": [
    "comp, catalog.get_temp(comp, rho, pressure, debug=True)"
   ]
  },
  {
   "cell_type": "code",
   "execution_count": null,
   "metadata": {
    "tags": []
   },
   "outputs": [],
   "source": [
    "8709.642881492731, 1.0907717201764107, 363805603730.5351"
   ]
  }
 ],
 "metadata": {
  "kernelspec": {
   "display_name": "Python 3",
   "language": "python",
   "name": "python3"
  },
  "language_info": {
   "codemirror_mode": {
    "name": "ipython",
    "version": 3
   },
   "file_extension": ".py",
   "mimetype": "text/x-python",
   "name": "python",
   "nbconvert_exporter": "python",
   "pygments_lexer": "ipython3",
   "version": "3.9.7"
  },
  "widgets": {
   "application/vnd.jupyter.widget-state+json": {
    "state": {},
    "version_major": 2,
    "version_minor": 0
   }
  }
 },
 "nbformat": 4,
 "nbformat_minor": 4
}
